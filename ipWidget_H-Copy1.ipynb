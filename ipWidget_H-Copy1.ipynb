{
 "cells": [
  {
   "cell_type": "code",
   "execution_count": 1,
   "metadata": {},
   "outputs": [],
   "source": [
    "from traitlets import Unicode, Bool, validate, TraitError,Int,List\n",
    "from ipywidgets import DOMWidget, register\n",
    "\n",
    "\n",
    "@register\n",
    "class Calc(DOMWidget):\n",
    "    _view_name = Unicode('CalcView').tag(sync=True)\n",
    "    _view_module = Unicode('calc_widget').tag(sync=True)\n",
    "    _view_module_version = Unicode('0.1.0').tag(sync=True)\n",
    "    \n",
    "    # Attributes\n",
    "    value = List(['H','.']).tag(sync=True)\n",
    "    count = List([0]).tag(sync=True)\n",
    "    disabled = Bool(False, help=\"Enable or disable user changes.\").tag(sync=True)"
   ]
  },
  {
   "cell_type": "code",
   "execution_count": 11,
   "metadata": {},
   "outputs": [
    {
     "data": {
      "application/javascript": [
       "\n",
       "require.undef('calc_widget');\n",
       "define('calc_widget', [\"@jupyter-widgets/base\"], function(widgets) {\n",
       "    var i = 1\n",
       "    var CalcView = widgets.DOMWidgetView.extend( {\n",
       "        // Render the view.\n",
       "        render: function() {\n",
       "            \n",
       "            this.calc_input = document.createElement('input');\n",
       "            this.calc_input.type = 'text';\n",
       "            this.calc_input.value = this.model.get('value');\n",
       "            \n",
       "            this.calc2_input = document.createElement('input');\n",
       "            this.calc2_input.type = 'text';\n",
       "            this.calc2_input.value = JSON.stringify(this.model.get('count'));\n",
       "            \n",
       "            // Python -> JavaScript update\n",
       "            this.model.on('change:value', this.value_changed, this);\n",
       "            \n",
       "            this.el.appendChild(this.calc_input);\n",
       "            this.el.appendChild(this.calc2_input);\n",
       "            \n",
       "        },\n",
       "        \n",
       "        value_changed: function() {\n",
       "            this.calc_input.value = this.model.get('value');\n",
       "\n",
       "            var counts = [i]\n",
       "            this.model.set('count', counts);\n",
       "            this.calc2_input.value = JSON.stringify(counts)\n",
       "            i++\n",
       "            \n",
       "        },\n",
       "        input_changed: function() {\n",
       "            this.model.set('value', this.calc_input.value);\n",
       "\n",
       "        },\n",
       "    });\n",
       "\n",
       "    return {\n",
       "        CalcView: CalcView\n",
       "    }\n",
       "});\n"
      ],
      "text/plain": [
       "<IPython.core.display.Javascript object>"
      ]
     },
     "metadata": {},
     "output_type": "display_data"
    }
   ],
   "source": [
    "%%javascript\n",
    "\n",
    "require.undef('calc_widget');\n",
    "define('calc_widget', [\"@jupyter-widgets/base\"], function(widgets) {\n",
    "    var i = 1\n",
    "    var CalcView = widgets.DOMWidgetView.extend( {\n",
    "        // Render the view.\n",
    "        render: function() {\n",
    "            \n",
    "            this.calc_input = document.createElement('input');\n",
    "            this.calc_input.type = 'text';\n",
    "            this.calc_input.value = this.model.get('value');\n",
    "            \n",
    "            this.calc2_input = document.createElement('input');\n",
    "            this.calc2_input.type = 'text';\n",
    "            this.calc2_input.value = JSON.stringify(this.model.get('count'));\n",
    "            \n",
    "            // Python -> JavaScript update\n",
    "            this.model.on('change:value', this.value_changed, this);\n",
    "            \n",
    "            this.el.appendChild(this.calc_input);\n",
    "            this.el.appendChild(this.calc2_input);\n",
    "            \n",
    "        },\n",
    "        \n",
    "        value_changed: function() {\n",
    "            this.calc_input.value = this.model.get('value');\n",
    "\n",
    "            var counts = [i]\n",
    "            this.model.set('count', counts);\n",
    "            this.calc2_input.value = JSON.stringify(counts)\n",
    "            i++\n",
    "            \n",
    "        },\n",
    "        input_changed: function() {\n",
    "            this.model.set('value', this.calc_input.value);\n",
    "\n",
    "        },\n",
    "    });\n",
    "\n",
    "    return {\n",
    "        CalcView: CalcView\n",
    "    }\n",
    "});"
   ]
  },
  {
   "cell_type": "code",
   "execution_count": 12,
   "metadata": {},
   "outputs": [
    {
     "data": {
      "application/vnd.jupyter.widget-view+json": {
       "model_id": "156e52b515994b039c74c9e77b0f3cb6",
       "version_major": 2,
       "version_minor": 0
      },
      "text/plain": [
       "Calc(count=[0], value=['H', '.'])"
      ]
     },
     "metadata": {},
     "output_type": "display_data"
    },
    {
     "data": {
      "application/vnd.jupyter.widget-view+json": {
       "model_id": "e64f18d9750b48ac9f92984a89934d54",
       "version_major": 2,
       "version_minor": 0
      },
      "text/plain": [
       "Calc(count=[0], value=['H', '.'])"
      ]
     },
     "metadata": {},
     "output_type": "display_data"
    }
   ],
   "source": [
    "x = Calc()\n",
    "y = Calc()\n",
    "display(x,y)"
   ]
  },
  {
   "cell_type": "code",
   "execution_count": 13,
   "metadata": {},
   "outputs": [
    {
     "data": {
      "application/vnd.jupyter.widget-view+json": {
       "model_id": "156e52b515994b039c74c9e77b0f3cb6",
       "version_major": 2,
       "version_minor": 0
      },
      "text/plain": [
       "Calc(count=[0], value=['H', 'K'])"
      ]
     },
     "metadata": {},
     "output_type": "display_data"
    }
   ],
   "source": [
    "x.value =['H','K']\n",
    "x"
   ]
  },
  {
   "cell_type": "code",
   "execution_count": 14,
   "metadata": {},
   "outputs": [
    {
     "data": {
      "application/vnd.jupyter.widget-view+json": {
       "model_id": "e64f18d9750b48ac9f92984a89934d54",
       "version_major": 2,
       "version_minor": 0
      },
      "text/plain": [
       "Calc(count=[0], value=['H', 'F', 'X'])"
      ]
     },
     "metadata": {},
     "output_type": "display_data"
    }
   ],
   "source": [
    "y.value = ['H','F','X']\n",
    "y"
   ]
  },
  {
   "cell_type": "code",
   "execution_count": null,
   "metadata": {},
   "outputs": [],
   "source": []
  },
  {
   "cell_type": "code",
   "execution_count": null,
   "metadata": {},
   "outputs": [],
   "source": []
  }
 ],
 "metadata": {
  "kernelspec": {
   "display_name": "ipywidgets",
   "language": "python",
   "name": "ipywidgets"
  },
  "language_info": {
   "codemirror_mode": {
    "name": "ipython",
    "version": 3
   },
   "file_extension": ".py",
   "mimetype": "text/x-python",
   "name": "python",
   "nbconvert_exporter": "python",
   "pygments_lexer": "ipython3",
   "version": "3.7.3"
  }
 },
 "nbformat": 4,
 "nbformat_minor": 2
}
